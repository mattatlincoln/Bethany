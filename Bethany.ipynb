{
 "cells": [
  {
   "cell_type": "code",
   "execution_count": null,
   "metadata": {},
   "outputs": [],
   "source": [
    "import numpy as np\n",
    "import matplotlib.pyplot as plt\n",
    "import pandas as pd\n",
    "import statsmodels.api as sm\n",
    "\n",
    "dataset = pd.read_csv(r'Data.csv') # here i have imported my data set.\n",
    "X = dataset.iloc[:,:-1].values    \n",
    "# i wanted to create a matrix of independent variables so here i have included all the data except the last column.\n",
    "y = dataset.iloc[:, 3].values \n",
    "# i wanted to create a matrix for the dependent variable so here i have included only the last column.\n",
    "from sklearn.preprocessing import LabelEncoder, OneHotEncoder\n",
    "from sklearn.compose import ColumnTransformer\n",
    "labelencoder = LabelEncoder()\n",
    "X[:, 3] = labelencoder.fit_transform(X[:, 3])\n",
    "onehotencoder = OneHotEncoder()\n",
    "X = onehotencoder.fit_transform(X).toarray()   \n",
    "# here i have created dummy variables to seperate the dogs, cats and moose, into seperate columns by replacing with 1 and 0.\n",
    "\n",
    "\n",
    "from sklearn.model_selection import train_test_split\n",
    "X_train, X_test, y_train, y_test = train_test_split(X, y, test_size = 0.2, random_state = 0)   \n",
    "# the data is then split into two. 20% is used for testing and the rest for training.\n",
    "\n",
    "\n",
    "from sklearn.linear_model import LinearRegression\n",
    "regressor = LinearRegression()\n",
    "regressor.fit(X_train, y_train)   # here i have fitting the 80% data that was allocated to training to the regressor. \n"
   ]
  },
  {
   "cell_type": "code",
   "execution_count": null,
   "metadata": {},
   "outputs": [],
   "source": [
    "y_pred = regressor.predict(X_test)   # this creates a vector using the test set of data. \n",
    "\n",
    "\n",
    "plt.scatter(dataset['Age'], dataset['Value'], color='blue')\n",
    "plt.title('Value Vs Age', fontsize=12)\n",
    "plt.xlabel('Age', fontsize=12)\n",
    "plt.ylabel('Value', fontsize=12)\n",
    "plt.grid(True)\n",
    "plt.show() \n",
    "\n",
    "plt.scatter(dataset['Friendly/10'], dataset['Value'], color='orange')\n",
    "plt.title('Value Vs Friendly/10', fontsize=12)\n",
    "plt.xlabel('Friendly/10', fontsize=12)\n",
    "plt.ylabel('Value', fontsize=12)\n",
    "plt.grid(True)\n",
    "plt.show()  # i have then displayed my data to visibly show the linear correlations between them. \n",
    "\n",
    "\n",
    "print(dataset) # this is to print out my data in a table.\n",
    "print(y_pred) # the predicted value can then be printed using the vector.\n"
   ]
  },
  {
   "cell_type": "code",
   "execution_count": null,
   "metadata": {},
   "outputs": [],
   "source": []
  }
 ],
 "metadata": {
  "kernelspec": {
   "display_name": "Python 3",
   "language": "python",
   "name": "python3"
  },
  "language_info": {
   "codemirror_mode": {
    "name": "ipython",
    "version": 3
   },
   "file_extension": ".py",
   "mimetype": "text/x-python",
   "name": "python",
   "nbconvert_exporter": "python",
   "pygments_lexer": "ipython3",
   "version": "3.8.3"
  }
 },
 "nbformat": 4,
 "nbformat_minor": 4
}
